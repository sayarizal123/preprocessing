{
  "nbformat": 4,
  "nbformat_minor": 0,
  "metadata": {
    "colab": {
      "name": "DMPert3.ipynb",
      "provenance": [],
      "collapsed_sections": []
    },
    "kernelspec": {
      "name": "python3",
      "display_name": "Python 3"
    },
    "language_info": {
      "name": "python"
    }
  },
  "cells": [
    {
      "cell_type": "code",
      "metadata": {
        "id": "j1GxLbC8D0DO"
      },
      "source": [
        "# -*- coding: utf-8 -*-\n",
        "import numpy as np\n",
        "import matplotlib.pyplot as plt\n",
        "import pandas as pd\n",
        "import chardet"
      ],
      "execution_count": 2,
      "outputs": []
    },
    {
      "cell_type": "code",
      "metadata": {
        "colab": {
          "base_uri": "https://localhost:8080/"
        },
        "id": "k0BQqV4_EZfD",
        "outputId": "3ff7b314-ef51-4810-8678-1b5b939a6495"
      },
      "source": [
        "#import dataset\n",
        "#strip value to float\n",
        "\n",
        "dataset = pd.read_csv('datakelulusanmahasiswa.csv')\n",
        "X = dataset.iloc[:,:-1].values\n",
        "Y = dataset.iloc[:,-1].values\n",
        "print(X)\n",
        "print(Y)   "
      ],
      "execution_count": 3,
      "outputs": [
        {
          "output_type": "stream",
          "text": [
            "[['ANIK WIDAYANTI' 'PEREMPUAN' 'BEKERJA' ... 3.03 0.0 3.07]\n",
            " ['DWI HESTYNA PRIHASTANTY' 'PEREMPUAN' 'MAHASISWA' ... 3.25 0.0 3.17]\n",
            " ['MURYA ARIEF BASUKI' 'PEREMPUAN' 'BEKERJA' ... 3.73 0.0 3.54]\n",
            " ...\n",
            " ['TULISA WAHYUHADI KRISNATAMI' 'PEREMPUAN' 'MAHASISWA' ... 3.14 3.0 3.03]\n",
            " [\"NI'MATUL JANNAH\" 'PEREMPUAN' 'MAHASISWA' ... 3.09 3.0 3.16]\n",
            " ['DINDU SETYO WICAKSONO' 'LAKI - LAKI' 'MAHASISWA' ... 2.41 3.0 2.16]]\n",
            "['TERLAMBAT' 'TERLAMBAT' 'TERLAMBAT' 'TERLAMBAT' 'TERLAMBAT' 'TERLAMBAT'\n",
            " 'TEPAT' 'TEPAT' 'TERLAMBAT' 'TERLAMBAT' 'TERLAMBAT' 'TERLAMBAT'\n",
            " 'TERLAMBAT' 'TERLAMBAT' 'TERLAMBAT' 'TERLAMBAT' 'TERLAMBAT' 'TERLAMBAT'\n",
            " 'TERLAMBAT' 'TEPAT' 'TERLAMBAT' 'TERLAMBAT' 'TERLAMBAT' 'TERLAMBAT'\n",
            " 'TERLAMBAT' 'TERLAMBAT' 'TERLAMBAT' 'TERLAMBAT' 'TEPAT' 'TERLAMBAT'\n",
            " 'TEPAT' 'TERLAMBAT' 'TEPAT' 'TEPAT' 'TERLAMBAT' 'TERLAMBAT' 'TEPAT'\n",
            " 'TERLAMBAT' 'TERLAMBAT' 'TERLAMBAT' 'TERLAMBAT' 'TERLAMBAT' 'TERLAMBAT'\n",
            " 'TERLAMBAT' 'TERLAMBAT' 'TERLAMBAT' 'TERLAMBAT' 'TEPAT' 'TEPAT'\n",
            " 'TERLAMBAT' 'TERLAMBAT' 'TERLAMBAT' 'TERLAMBAT' 'TERLAMBAT' 'TERLAMBAT'\n",
            " 'TERLAMBAT' 'TERLAMBAT' 'TERLAMBAT' 'TERLAMBAT' 'TEPAT' 'TERLAMBAT'\n",
            " 'TERLAMBAT' 'TERLAMBAT' 'TERLAMBAT' 'TEPAT' 'TERLAMBAT' 'TEPAT'\n",
            " 'TERLAMBAT' 'TEPAT' 'TERLAMBAT' 'TERLAMBAT' 'TERLAMBAT' 'TERLAMBAT'\n",
            " 'TERLAMBAT' 'TERLAMBAT' 'TERLAMBAT' 'TERLAMBAT' 'TERLAMBAT' 'TERLAMBAT'\n",
            " 'TERLAMBAT' 'TERLAMBAT' 'TEPAT' 'TERLAMBAT' 'TERLAMBAT' 'TERLAMBAT'\n",
            " 'TERLAMBAT' 'TEPAT' 'TERLAMBAT' 'TEPAT' 'TERLAMBAT' 'TERLAMBAT'\n",
            " 'TERLAMBAT' 'TERLAMBAT' 'TEPAT' 'TERLAMBAT' 'TERLAMBAT' 'TERLAMBAT'\n",
            " 'TERLAMBAT' 'TERLAMBAT' 'TERLAMBAT' 'TERLAMBAT' 'TERLAMBAT' 'TEPAT'\n",
            " 'TERLAMBAT' 'TERLAMBAT' 'TEPAT' 'TEPAT' 'TERLAMBAT' 'TERLAMBAT'\n",
            " 'TERLAMBAT' 'TERLAMBAT' 'TEPAT' 'TEPAT' 'TEPAT' 'TEPAT' 'TERLAMBAT'\n",
            " 'TERLAMBAT' 'TEPAT' 'TERLAMBAT' 'TEPAT' 'TERLAMBAT' 'TERLAMBAT' 'TEPAT'\n",
            " 'TERLAMBAT' 'TEPAT' 'TEPAT' 'TEPAT' 'TEPAT' 'TEPAT' 'TERLAMBAT'\n",
            " 'TERLAMBAT' 'TERLAMBAT' 'TERLAMBAT' 'TERLAMBAT' 'TERLAMBAT' 'TERLAMBAT'\n",
            " 'TERLAMBAT' 'TERLAMBAT' 'TERLAMBAT' 'TERLAMBAT' 'TERLAMBAT' 'TERLAMBAT'\n",
            " 'TEPAT' 'TERLAMBAT' 'TEPAT' 'TEPAT' 'TEPAT' 'TERLAMBAT' 'TERLAMBAT'\n",
            " 'TEPAT' 'TERLAMBAT' 'TEPAT' 'TEPAT' 'TEPAT' 'TERLAMBAT' 'TEPAT'\n",
            " 'TERLAMBAT' 'TERLAMBAT' 'TERLAMBAT' 'TERLAMBAT' 'TEPAT' 'TEPAT'\n",
            " 'TERLAMBAT' 'TERLAMBAT' 'TERLAMBAT' 'TEPAT' 'TEPAT' 'TERLAMBAT'\n",
            " 'TERLAMBAT' 'TERLAMBAT' 'TEPAT' 'TERLAMBAT' 'TERLAMBAT' 'TERLAMBAT'\n",
            " 'TERLAMBAT' 'TEPAT' 'TERLAMBAT' 'TEPAT' 'TERLAMBAT' 'TEPAT' 'TERLAMBAT'\n",
            " 'TEPAT' 'TERLAMBAT' 'TEPAT' 'TEPAT' 'TERLAMBAT' 'TERLAMBAT' 'TERLAMBAT'\n",
            " 'TERLAMBAT' 'TERLAMBAT' 'TERLAMBAT' 'TERLAMBAT' 'TERLAMBAT' 'TEPAT'\n",
            " 'TERLAMBAT' 'TERLAMBAT' 'TERLAMBAT' 'TERLAMBAT' 'TERLAMBAT' 'TERLAMBAT'\n",
            " 'TEPAT' 'TEPAT' 'TERLAMBAT' 'TEPAT' 'TERLAMBAT' 'TERLAMBAT' 'TEPAT'\n",
            " 'TEPAT' 'TEPAT' 'TEPAT' 'TERLAMBAT' 'TERLAMBAT' 'TEPAT' 'TERLAMBAT'\n",
            " 'TERLAMBAT' 'TERLAMBAT' 'TEPAT' 'TERLAMBAT' 'TEPAT' 'TERLAMBAT' 'TEPAT'\n",
            " 'TEPAT' 'TEPAT' 'TEPAT' 'TEPAT' 'TEPAT' 'TEPAT' 'TERLAMBAT' 'TERLAMBAT'\n",
            " 'TERLAMBAT' 'TERLAMBAT' 'TEPAT' 'TEPAT' 'TERLAMBAT' 'TEPAT' 'TEPAT'\n",
            " 'TEPAT' 'TEPAT' 'TEPAT' 'TEPAT' 'TEPAT' 'TEPAT' 'TEPAT' 'TEPAT' 'TEPAT'\n",
            " 'TEPAT' 'TEPAT' 'TEPAT' 'TEPAT' 'TEPAT' 'TEPAT' 'TEPAT' 'TEPAT' 'TEPAT'\n",
            " 'TEPAT' 'TEPAT' 'TEPAT' 'TEPAT' 'TEPAT' 'TEPAT' 'TEPAT' 'TEPAT' 'TEPAT'\n",
            " 'TEPAT' 'TEPAT' 'TEPAT' 'TEPAT' 'TEPAT' 'TEPAT' 'TEPAT' 'TEPAT' 'TEPAT'\n",
            " 'TEPAT' 'TEPAT' 'TEPAT' 'TEPAT' 'TEPAT' 'TEPAT' 'TEPAT' 'TEPAT' 'TEPAT'\n",
            " 'TEPAT' 'TEPAT' 'TEPAT' 'TEPAT' 'TEPAT' 'TEPAT' 'TEPAT' 'TEPAT' 'TEPAT'\n",
            " 'TEPAT' 'TEPAT' 'TEPAT' 'TEPAT' 'TEPAT' 'TEPAT' 'TEPAT' 'TEPAT' 'TEPAT'\n",
            " 'TEPAT' 'TEPAT' 'TEPAT' 'TEPAT' 'TEPAT' 'TEPAT' 'TEPAT' 'TEPAT' 'TEPAT'\n",
            " 'TEPAT' 'TEPAT' 'TEPAT' 'TEPAT' 'TEPAT' 'TEPAT' 'TEPAT' 'TEPAT' 'TEPAT'\n",
            " 'TEPAT' 'TEPAT' 'TEPAT' 'TEPAT' 'TEPAT' 'TEPAT' 'TEPAT' 'TEPAT' 'TEPAT'\n",
            " 'TEPAT' 'TEPAT' 'TEPAT' 'TERLAMBAT' 'TEPAT' 'TEPAT' 'TEPAT' 'TEPAT'\n",
            " 'TEPAT' 'TEPAT' 'TEPAT' 'TEPAT' 'TEPAT' 'TEPAT' 'TEPAT' 'TEPAT' 'TEPAT'\n",
            " 'TEPAT' 'TEPAT' 'TEPAT' 'TEPAT' 'TEPAT' 'TEPAT' 'TEPAT' 'TEPAT' 'TEPAT'\n",
            " 'TEPAT' 'TEPAT' 'TEPAT' 'TEPAT' 'TEPAT' 'TEPAT' 'TEPAT' 'TEPAT' 'TEPAT'\n",
            " 'TEPAT' 'TEPAT' 'TEPAT' 'TEPAT' 'TERLAMBAT' 'TEPAT' 'TEPAT' 'TEPAT'\n",
            " 'TEPAT' 'TEPAT' 'TEPAT' 'TEPAT' 'TEPAT' 'TEPAT' 'TEPAT' 'TEPAT' 'TEPAT'\n",
            " 'TEPAT']\n"
          ],
          "name": "stdout"
        }
      ]
    },
    {
      "cell_type": "code",
      "metadata": {
        "colab": {
          "base_uri": "https://localhost:8080/"
        },
        "id": "3D8QMQZjElET",
        "outputId": "36daf787-de8a-4c84-889a-cbe1de464ee4"
      },
      "source": [
        "#taking care mising data(nan)\n",
        "from sklearn.impute import SimpleImputer\n",
        "imputer = SimpleImputer(missing_values=np.nan, strategy='mean')\n",
        "imputer.fit(X[:,6:14])\n",
        "X[:,6:14] = imputer.transform(X[:,6:14])\n",
        "print(X)"
      ],
      "execution_count": 4,
      "outputs": [
        {
          "output_type": "stream",
          "text": [
            "[['ANIK WIDAYANTI' 'PEREMPUAN' 'BEKERJA' ... 3.03 0.0 3.07]\n",
            " ['DWI HESTYNA PRIHASTANTY' 'PEREMPUAN' 'MAHASISWA' ... 3.25 0.0 3.17]\n",
            " ['MURYA ARIEF BASUKI' 'PEREMPUAN' 'BEKERJA' ... 3.73 0.0 3.54]\n",
            " ...\n",
            " ['TULISA WAHYUHADI KRISNATAMI' 'PEREMPUAN' 'MAHASISWA' ... 3.14 3.0 3.03]\n",
            " [\"NI'MATUL JANNAH\" 'PEREMPUAN' 'MAHASISWA' ... 3.09 3.0 3.16]\n",
            " ['DINDU SETYO WICAKSONO' 'LAKI - LAKI' 'MAHASISWA' ... 2.41 3.0 2.16]]\n"
          ],
          "name": "stdout"
        }
      ]
    },
    {
      "cell_type": "code",
      "metadata": {
        "colab": {
          "base_uri": "https://localhost:8080/"
        },
        "id": "o4TtGYDtEp02",
        "outputId": "82fb98cc-c55e-47e0-f207-0e5826fdecb4"
      },
      "source": [
        "#encoding dependet\n",
        "from sklearn.preprocessing import LabelEncoder\n",
        "le = LabelEncoder()\n",
        "Y = le.fit_transform(Y)\n",
        "print(Y)"
      ],
      "execution_count": 5,
      "outputs": [
        {
          "output_type": "stream",
          "text": [
            "[1 1 1 1 1 1 0 0 1 1 1 1 1 1 1 1 1 1 1 0 1 1 1 1 1 1 1 1 0 1 0 1 0 0 1 1 0\n",
            " 1 1 1 1 1 1 1 1 1 1 0 0 1 1 1 1 1 1 1 1 1 1 0 1 1 1 1 0 1 0 1 0 1 1 1 1 1\n",
            " 1 1 1 1 1 1 1 0 1 1 1 1 0 1 0 1 1 1 1 0 1 1 1 1 1 1 1 1 0 1 1 0 0 1 1 1 1\n",
            " 0 0 0 0 1 1 0 1 0 1 1 0 1 0 0 0 0 0 1 1 1 1 1 1 1 1 1 1 1 1 1 0 1 0 0 0 1\n",
            " 1 0 1 0 0 0 1 0 1 1 1 1 0 0 1 1 1 0 0 1 1 1 0 1 1 1 1 0 1 0 1 0 1 0 1 0 0\n",
            " 1 1 1 1 1 1 1 1 0 1 1 1 1 1 1 0 0 1 0 1 1 0 0 0 0 1 1 0 1 1 1 0 1 0 1 0 0\n",
            " 0 0 0 0 0 1 1 1 1 0 0 1 0 0 0 0 0 0 0 0 0 0 0 0 0 0 0 0 0 0 0 0 0 0 0 0 0\n",
            " 0 0 0 0 0 0 0 0 0 0 0 0 0 0 0 0 0 0 0 0 0 0 0 0 0 0 0 0 0 0 0 0 0 0 0 0 0\n",
            " 0 0 0 0 0 0 0 0 0 0 0 0 0 0 0 0 0 0 0 0 0 0 0 0 0 0 0 0 0 0 0 0 0 1 0 0 0\n",
            " 0 0 0 0 0 0 0 0 0 0 0 0 0 0 0 0 0 0 0 0 0 0 0 0 0 0 0 0 0 0 0 0 1 0 0 0 0\n",
            " 0 0 0 0 0 0 0 0 0]\n"
          ],
          "name": "stdout"
        }
      ]
    },
    {
      "cell_type": "code",
      "metadata": {
        "colab": {
          "base_uri": "https://localhost:8080/"
        },
        "id": "iMFeyULrEuk7",
        "outputId": "6c96742c-e959-48ee-87fe-6b0b3d1a5cc4"
      },
      "source": [
        "#Spliting \n",
        "from sklearn.model_selection import train_test_split\n",
        "X_train,X_test,Y_train,Y_test = train_test_split(X,Y, test_size = 0.4,random_state = 1)\n",
        "print(X_train)\n",
        "print(Y_train)\n",
        "print(X_test)\n",
        "print(Y_test)  "
      ],
      "execution_count": 6,
      "outputs": [
        {
          "output_type": "stream",
          "text": [
            "[['AMIR ALFIAN' 'LAKI - LAKI' 'BEKERJA' ... 1.35 0.0 3.09]\n",
            " ['DERA BAHTIAR WIDIYANTO' 'LAKI - LAKI' 'MAHASISWA' ... 3.59 4.0 3.52]\n",
            " ['EVA ADITYA' 'PEREMPUAN' 'BEKERJA' ... 2.74 0.0 2.63]\n",
            " ...\n",
            " ['HERMAWAN BUDI HARTONO' 'LAKI - LAKI' 'BEKERJA' ... 3.26 1.0 3.16]\n",
            " ['LEYLA TRIYANA PRATIWI' 'PEREMPUAN' 'MAHASISWA' ... 2.18\n",
            "  1.2718279569892472 3.39]\n",
            " ['SUTOPO' 'LAKI - LAKI' 'BEKERJA' ... 3.36 2.0 3.16]]\n",
            "[1 0 1 0 1 1 1 0 1 0 1 0 0 1 0 1 0 0 0 1 0 1 1 0 0 1 0 1 0 0 0 0 1 1 1 0 1\n",
            " 0 0 0 0 0 1 0 1 1 0 1 0 0 0 0 0 0 0 1 0 1 1 0 0 0 0 1 1 1 1 1 1 1 0 1 1 0\n",
            " 1 0 1 1 0 1 0 0 0 0 1 0 0 0 1 1 1 0 0 0 1 0 1 0 0 0 1 0 0 1 0 0 0 1 1 1 1\n",
            " 1 1 0 1 0 1 1 0 1 1 1 0 1 0 1 1 0 1 0 0 0 1 0 1 0 1 0 0 0 0 1 1 0 0 0 0 0\n",
            " 0 1 1 0 0 1 0 1 0 0 0 1 0 1 0 0 0 0 1 0 0 1 0 0 0 1 1 0 1 0 1 0 1 1 1 0 1\n",
            " 0 1 0 0 1 1 0 0 0 0 0 1 0 1 0 0 0 1 0 0 0 1 0 1 1 0 0 0 0 1 0 0 1 1 0 0 1\n",
            " 0 0 1 0 1]\n",
            "[['RIZAL BACHTIAR' 'LAKI - LAKI' 'MAHASISWA' ... 2.31 0.0 2.53]\n",
            " ['NORMA FITRIYANI' 'PEREMPUAN' 'MAHASISWA' ... 3.2 4.0 2.81]\n",
            " ['NISWATUL ALIYAH' 'PEREMPUAN' 'BEKERJA' ... 2.07 1.21 2.92]\n",
            " ...\n",
            " ['ARIS HIDAYAT' 'LAKI - LAKI' 'MAHASISWA' ... 3.63 0.0 3.13]\n",
            " ['NOOR FARIDA' 'PEREMPUAN' 'BEKERJA' ... 2.52 0.0 2.86]\n",
            " ['ABDUL ROSYID' 'LAKI - LAKI' 'MAHASISWA' ... 2.73 0.0 2.85]]\n",
            "[1 0 1 0 0 1 0 1 0 1 0 1 0 1 1 1 0 0 0 0 0 0 0 0 1 1 1 1 1 1 0 0 0 1 0 0 0\n",
            " 0 0 0 1 0 0 0 0 0 0 1 1 1 1 1 0 0 0 1 0 0 1 0 0 0 1 0 0 0 0 1 0 0 0 0 1 0\n",
            " 1 0 0 0 0 0 0 1 0 1 1 0 0 1 1 1 0 0 1 1 1 0 1 0 0 1 0 0 1 0 0 1 1 1 1 0 1\n",
            " 0 0 1 0 0 1 1 0 1 0 0 0 0 0 0 1 1 0 1 0 1 0 1 1 1 0 1 0 1 1 1 1 1 0 0 1 0\n",
            " 1 0 1 0]\n"
          ],
          "name": "stdout"
        }
      ]
    },
    {
      "cell_type": "code",
      "metadata": {
        "colab": {
          "base_uri": "https://localhost:8080/"
        },
        "id": "PTiw-vkHE8Sr",
        "outputId": "dd40643f-5401-4660-9aa8-95dafbb6a197"
      },
      "source": [
        "#feature scalling\n",
        "from sklearn.preprocessing import StandardScaler\n",
        "sc = StandardScaler()\n",
        "X_train[:,6:14] = sc.fit_transform(X_train[:,6:14])\n",
        "X_test[:,6:14] = sc.transform(X_test[:,6:14])\n",
        "print(X_train)"
      ],
      "execution_count": 7,
      "outputs": [
        {
          "output_type": "stream",
          "text": [
            "[['AMIR ALFIAN' 'LAKI - LAKI' 'BEKERJA' ... -1.6350141105954619\n",
            "  -0.9088722690914731 0.369395208371555]\n",
            " ['DERA BAHTIAR WIDIYANTO' 'LAKI - LAKI' 'MAHASISWA' ...\n",
            "  1.376112202173755 2.0286181103792407 1.2612927569238077]\n",
            " ['EVA ADITYA' 'PEREMPUAN' 'BEKERJA' ... 0.2334973067032936\n",
            "  -0.9088722690914731 -0.584727750544808]\n",
            " ...\n",
            " ['HERMAWAN BUDI HARTONO' 'LAKI - LAKI' 'BEKERJA' ... 0.9325087721675756\n",
            "  -0.17449967422379464 0.5145878325544804]\n",
            " ['LEYLA TRIYANA PRATIWI' 'PEREMPUAN' 'MAHASISWA' ... -0.5192842714890108\n",
            "  0.025123327907978527 0.9916493120126618]\n",
            " ['SUTOPO' 'LAKI - LAKI' 'BEKERJA' ... 1.06693405398763\n",
            "  0.5598729206438838 0.5145878325544804]]\n"
          ],
          "name": "stdout"
        }
      ]
    },
    {
      "cell_type": "code",
      "metadata": {
        "colab": {
          "base_uri": "https://localhost:8080/"
        },
        "id": "fKWjVLPJFJMU",
        "outputId": "65f2d897-5bef-4756-99b4-305b363725ec"
      },
      "source": [
        "print(X_test)"
      ],
      "execution_count": 8,
      "outputs": [
        {
          "output_type": "stream",
          "text": [
            "[['RIZAL BACHTIAR' 'LAKI - LAKI' 'MAHASISWA' ... -0.3445314051229403\n",
            "  -0.9088722690914731 -0.7921457850918435]\n",
            " ['NORMA FITRIYANI' 'PEREMPUAN' 'MAHASISWA' ... 0.8518536030755435\n",
            "  2.0286181103792407 -0.21137528836014383]\n",
            " ['NISWATUL ALIYAH' 'PEREMPUAN' 'BEKERJA' ... -0.667152081491071\n",
            "  -0.020281429301582193 0.016784549641594905]\n",
            " ...\n",
            " ['ARIS HIDAYAT' 'LAKI - LAKI' 'MAHASISWA' ... 1.4298823149017768\n",
            "  -0.9088722690914731 0.45236242219036926]\n",
            " ['NOOR FARIDA' 'PEREMPUAN' 'BEKERJA' ... -0.0622383133008262\n",
            "  -0.9088722690914731 -0.10766627108662646]\n",
            " ['ABDUL ROSYID' 'LAKI - LAKI' 'MAHASISWA' ... 0.22005477852128785\n",
            "  -0.9088722690914731 -0.12840807454132958]]\n"
          ],
          "name": "stdout"
        }
      ]
    }
  ]
}